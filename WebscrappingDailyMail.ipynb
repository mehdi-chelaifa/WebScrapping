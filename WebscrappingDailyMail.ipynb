{
 "cells": [
  {
   "cell_type": "code",
   "execution_count": 12,
   "metadata": {},
   "outputs": [],
   "source": [
    "import requests\n",
    "from bs4 import BeautifulSoup\n",
    "import numpy as np\n",
    "import pandas as pd\n",
    "import re\n",
    "import time\n",
    "import bs4 as bs\n",
    "import urllib.request\n",
    "import nltk\n",
    "import heapq\n",
    "import re"
   ]
  },
  {
   "cell_type": "code",
   "execution_count": 13,
   "metadata": {},
   "outputs": [],
   "source": [
    "# url definition\n",
    "url = \"https://www.dailymail.co.uk\""
   ]
  },
  {
   "cell_type": "code",
   "execution_count": 14,
   "metadata": {},
   "outputs": [
    {
     "data": {
      "text/plain": [
       "83"
      ]
     },
     "execution_count": 14,
     "metadata": {},
     "output_type": "execute_result"
    }
   ],
   "source": [
    "# Request\n",
    "r1 = requests.get(url)\n",
    "r1.status_code\n",
    "\n",
    "# We'll save in coverpage the cover page content\n",
    "coverpage = r1.content\n",
    "\n",
    "# Soup creation\n",
    "soup1 = BeautifulSoup(coverpage, 'html5lib')\n",
    "\n",
    "# News identification\n",
    "coverpage_news = soup1.find_all('h2', class_='linkro-darkred')\n",
    "len(coverpage_news)"
   ]
  },
  {
   "cell_type": "code",
   "execution_count": 15,
   "metadata": {},
   "outputs": [
    {
     "data": {
      "text/plain": [
       "<h2 class=\"linkro-darkred\">\n",
       "        <a href=\"/news/article-9207367/Covid-UK-Cases-fall-29-week-21-088-deaths-fall-3-7.html\" itemprop=\"url\">UK Covid cases fall 29% in a week to 21,088 and deaths fall by 3.7% with another 587 fatalities recorded as public health experts say impact of vaccine should be seen in 'two weeks' </a>\n",
       "    </h2>"
      ]
     },
     "execution_count": 15,
     "metadata": {},
     "output_type": "execute_result"
    }
   ],
   "source": [
    "coverpage_news[4]"
   ]
  },
  {
   "cell_type": "code",
   "execution_count": 16,
   "metadata": {},
   "outputs": [],
   "source": [
    "number_of_articles = 5"
   ]
  },
  {
   "cell_type": "code",
   "execution_count": 17,
   "metadata": {},
   "outputs": [],
   "source": [
    "# Empty lists for content, links and titles\n",
    "news_contents = []\n",
    "list_links = []\n",
    "list_titles = []\n",
    "\n",
    "for n in np.arange(0, number_of_articles):\n",
    "        \n",
    "    # Getting the link of the article\n",
    "    link = url + coverpage_news[n].find('a')['href']\n",
    "    list_links.append(link)\n",
    "    \n",
    "    # Getting the title\n",
    "    title = coverpage_news[n].find('a').get_text()\n",
    "    list_titles.append(title)\n",
    "    \n",
    "    # Reading the content (it is divided in paragraphs)\n",
    "    article = requests.get(link)\n",
    "    article_content = article.content\n",
    "    soup_article = BeautifulSoup(article_content, 'html5lib')\n",
    "    body = soup_article.find_all('p', class_='mol-para-with-font')\n",
    "    \n",
    "    # Unifying the paragraphs\n",
    "    list_paragraphs = []\n",
    "    for p in np.arange(0, len(body)):\n",
    "        paragraph = body[p].get_text()\n",
    "        list_paragraphs.append(paragraph)\n",
    "        final_article = \" \".join(list_paragraphs)\n",
    "        \n",
    "    # Removing special characters\n",
    "    final_article = re.sub(\"\\\\xa0\", \"\", final_article)\n",
    "        \n",
    "    news_contents.append(final_article)"
   ]
  },
  {
   "cell_type": "code",
   "execution_count": 18,
   "metadata": {},
   "outputs": [],
   "source": [
    "# df_features\n",
    "df_features = pd.DataFrame(\n",
    "     {'Article Content': news_contents \n",
    "    })\n",
    "\n",
    "# df_show_info\n",
    "df_show_info = pd.DataFrame(\n",
    "    {'Article Title': list_titles,\n",
    "     'Article Link': list_links})"
   ]
  },
  {
   "cell_type": "code",
   "execution_count": 19,
   "metadata": {},
   "outputs": [
    {
     "data": {
      "text/html": [
       "<div>\n",
       "<style scoped>\n",
       "    .dataframe tbody tr th:only-of-type {\n",
       "        vertical-align: middle;\n",
       "    }\n",
       "\n",
       "    .dataframe tbody tr th {\n",
       "        vertical-align: top;\n",
       "    }\n",
       "\n",
       "    .dataframe thead th {\n",
       "        text-align: right;\n",
       "    }\n",
       "</style>\n",
       "<table border=\"1\" class=\"dataframe\">\n",
       "  <thead>\n",
       "    <tr style=\"text-align: right;\">\n",
       "      <th></th>\n",
       "      <th>Article Content</th>\n",
       "    </tr>\n",
       "  </thead>\n",
       "  <tbody>\n",
       "    <tr>\n",
       "      <th>0</th>\n",
       "      <td>Ministers sparked confusion over the summer ho...</td>\n",
       "    </tr>\n",
       "    <tr>\n",
       "      <th>1</th>\n",
       "      <td>A Dorset beach was last night battered by a br...</td>\n",
       "    </tr>\n",
       "    <tr>\n",
       "      <th>2</th>\n",
       "      <td>Ireland's prime minister lashed out at the Eur...</td>\n",
       "    </tr>\n",
       "    <tr>\n",
       "      <th>3</th>\n",
       "      <td>A refusal to go on ventilators is putting crit...</td>\n",
       "    </tr>\n",
       "    <tr>\n",
       "      <th>4</th>\n",
       "      <td>Coronavirus cases and deaths fell again today ...</td>\n",
       "    </tr>\n",
       "  </tbody>\n",
       "</table>\n",
       "</div>"
      ],
      "text/plain": [
       "                                     Article Content\n",
       "0  Ministers sparked confusion over the summer ho...\n",
       "1  A Dorset beach was last night battered by a br...\n",
       "2  Ireland's prime minister lashed out at the Eur...\n",
       "3  A refusal to go on ventilators is putting crit...\n",
       "4  Coronavirus cases and deaths fell again today ..."
      ]
     },
     "execution_count": 19,
     "metadata": {},
     "output_type": "execute_result"
    }
   ],
   "source": [
    "df_features"
   ]
  },
  {
   "cell_type": "code",
   "execution_count": 20,
   "metadata": {},
   "outputs": [
    {
     "data": {
      "text/html": [
       "<div>\n",
       "<style scoped>\n",
       "    .dataframe tbody tr th:only-of-type {\n",
       "        vertical-align: middle;\n",
       "    }\n",
       "\n",
       "    .dataframe tbody tr th {\n",
       "        vertical-align: top;\n",
       "    }\n",
       "\n",
       "    .dataframe thead th {\n",
       "        text-align: right;\n",
       "    }\n",
       "</style>\n",
       "<table border=\"1\" class=\"dataframe\">\n",
       "  <thead>\n",
       "    <tr style=\"text-align: right;\">\n",
       "      <th></th>\n",
       "      <th>Article Title</th>\n",
       "      <th>Article Link</th>\n",
       "    </tr>\n",
       "  </thead>\n",
       "  <tbody>\n",
       "    <tr>\n",
       "      <th>0</th>\n",
       "      <td>Confusion as Matt Hancock tells Britons they c...</td>\n",
       "      <td>https://www.dailymail.co.uk/news/article-92071...</td>\n",
       "    </tr>\n",
       "    <tr>\n",
       "      <th>1</th>\n",
       "      <td>Sea defences are breached and cars are carried...</td>\n",
       "      <td>https://www.dailymail.co.uk/news/article-92066...</td>\n",
       "    </tr>\n",
       "    <tr>\n",
       "      <th>2</th>\n",
       "      <td>Irish PM Micheal Martin blasts the EU saying p...</td>\n",
       "      <td>https://www.dailymail.co.uk/news/article-92068...</td>\n",
       "    </tr>\n",
       "    <tr>\n",
       "      <th>3</th>\n",
       "      <td>Critically ill Covid patients are dying unnece...</td>\n",
       "      <td>https://www.dailymail.co.uk/news/article-92069...</td>\n",
       "    </tr>\n",
       "    <tr>\n",
       "      <th>4</th>\n",
       "      <td>UK Covid cases fall 29% in a week to 21,088 an...</td>\n",
       "      <td>https://www.dailymail.co.uk/news/article-92073...</td>\n",
       "    </tr>\n",
       "  </tbody>\n",
       "</table>\n",
       "</div>"
      ],
      "text/plain": [
       "                                       Article Title  \\\n",
       "0  Confusion as Matt Hancock tells Britons they c...   \n",
       "1  Sea defences are breached and cars are carried...   \n",
       "2  Irish PM Micheal Martin blasts the EU saying p...   \n",
       "3  Critically ill Covid patients are dying unnece...   \n",
       "4  UK Covid cases fall 29% in a week to 21,088 an...   \n",
       "\n",
       "                                        Article Link  \n",
       "0  https://www.dailymail.co.uk/news/article-92071...  \n",
       "1  https://www.dailymail.co.uk/news/article-92066...  \n",
       "2  https://www.dailymail.co.uk/news/article-92068...  \n",
       "3  https://www.dailymail.co.uk/news/article-92069...  \n",
       "4  https://www.dailymail.co.uk/news/article-92073...  "
      ]
     },
     "execution_count": 20,
     "metadata": {},
     "output_type": "execute_result"
    }
   ],
   "source": [
    "df_show_info"
   ]
  },
  {
   "cell_type": "code",
   "execution_count": 31,
   "metadata": {},
   "outputs": [],
   "source": [
    "def summary_of_article1(article):\n",
    "    sentence_scores = {}\n",
    " \n",
    "    scraped_data = urllib.request.urlopen(article)\n",
    "    \n",
    "    article = scraped_data.read()\n",
    "\n",
    "    parsed_article = bs.BeautifulSoup(article,'lxml')\n",
    "\n",
    "    paragraphs = parsed_article.find_all('p')\n",
    "\n",
    "    article_text = \"\"\n",
    "\n",
    "    for p in paragraphs:\n",
    "        article_text += p.text\n",
    "        \n",
    "    article_text = re.sub(r'\\[[0-9]*\\]', ' ', article_text)\n",
    "    article_text = re.sub(r'\\s+', ' ', article_text)\n",
    "    \n",
    "    formatted_article_text = re.sub('[^a-zA-Z]', ' ', article_text )\n",
    "    formatted_article_text = re.sub(r'\\s+', ' ', formatted_article_text)\n",
    "    \n",
    "    sentence_list = nltk.sent_tokenize(article_text)\n",
    "    \n",
    "    stopwords = nltk.corpus.stopwords.words('french')\n",
    "    \n",
    "    word_frequencies = {}\n",
    "    for word in nltk.word_tokenize(formatted_article_text):\n",
    "        if word not in stopwords:\n",
    "            if word not in word_frequencies.keys():\n",
    "                word_frequencies[word] = 1\n",
    "            else:\n",
    "                word_frequencies[word] += 1\n",
    "    maximum_frequency = max(word_frequencies.values())\n",
    "\n",
    "    for word in word_frequencies.keys():\n",
    "        word_frequencies[word] = (word_frequencies[word]/maximum_frequency)\n",
    "    for sent in sentence_list:\n",
    "        for word in nltk.word_tokenize(sent.lower()):\n",
    "            if word in word_frequencies.keys():\n",
    "                if len(sent.split(' ')) < 50:\n",
    "                    if sent not in sentence_scores.keys():\n",
    "                        sentence_scores[sent] = word_frequencies[word]\n",
    "                    else:\n",
    "                        sentence_scores[sent] += word_frequencies[word]\n",
    "\n",
    "    summary_sentences = heapq.nlargest(7, sentence_scores, key=sentence_scores.get)\n",
    "\n",
    "    summary = ' '.join(summary_sentences)\n",
    "    return summary"
   ]
  },
  {
   "cell_type": "code",
   "execution_count": null,
   "metadata": {},
   "outputs": [],
   "source": []
  },
  {
   "cell_type": "code",
   "execution_count": 32,
   "metadata": {},
   "outputs": [],
   "source": [
    "# empty list for article summaries\n",
    "articles_summaries = []\n",
    "# getting the summary for each article\n",
    "for i in np.arange(0, number_of_articles):\n",
    "    articles_summaries.append(summary_of_article1(list_links[i]))"
   ]
  },
  {
   "cell_type": "code",
   "execution_count": 33,
   "metadata": {},
   "outputs": [
    {
     "data": {
      "text/plain": [
       "\"The Prime Minister told the European Commission president that plans to stop 3.5 million doses from the Pfizer factory in Belgium the UK risked preventing people from receiving the second injection, forcing it into a hurried climbdown. Following the PM's diplomatic victory, Britain yesterday recorded a daily record for first-dose jabs – 487,756 – to bring the total to almost 8.4 million. Speaking to BBC One's Andrew Marr Show, Dr Hopkins said: 'What we would like to see is a divergence in the case rate in the over-70s and over-80s who have been vaccinated from the younger age groups, to show that they are declining faster. 'Any releases that we have will have to happen very slowly, very cautiously, watching and waiting as we go, with a two-week period to watch and see the impact of that relaxation because it takes that to see what's happening in the population. 'And they did that, in my view, without anywhere near the understanding of the Good Friday Agreement, of the sensitivity of the situation in Northern Ireland, and it was an almost Trumpian act. Appearing on BBC Politics East this morning, Suffolk East MP Mr Hancock said he was confident that a high percentage of the UK population would have had their jab within the next six months, enabling a roll-back of restrictions that have been in place since the new year. Do you want to automatically post your MailOnline comments to your Facebook Timeline?Your comment will be posted to MailOnline as usual We will automatically post your comment and a link to the news story to your Facebook timeline at the same time it is posted on MailOnline.\""
      ]
     },
     "execution_count": 33,
     "metadata": {},
     "output_type": "execute_result"
    }
   ],
   "source": [
    "articles_summaries[0]"
   ]
  },
  {
   "cell_type": "code",
   "execution_count": 34,
   "metadata": {},
   "outputs": [
    {
     "data": {
      "text/plain": [
       "'The Environment Agency had issued a flood warning for the area, forecasting sea spray overtopping along the coast as a result of high tides and strong winds and urging people to be careful along beaches, promenades and coastal footpaths and roads due to the danger of big waves. \\'In the colder air to the north of this system the rainfall will readily turn to snow or even freezing rain, affecting a large part of England and Wales north of the M4 corridor. \\'However, rain is likely to turn to sleet and snow across Wales and central England during the morning and then some parts of south and south-east England before it clears southwards again. Met Office Chief Meteorologist Andy Page said yesterday: \\'Over the next few days we continue to see a division between milder conditions in the South West with much colder air to the north and east. There are 250 alerts across the country where flooding is possibleI just hate the expression \"the white stuff\" when ...Published by Associated Newspapers LtdPart of the Daily Mail, The Mail on Sunday & Metro Media Group Just behind the beach there is a small car park and the water even swept one of two of the cars away with it. \\'The boundary between the two air masses will flex north and south bringing the potential for snow along the boundary between the two.'"
      ]
     },
     "execution_count": 34,
     "metadata": {},
     "output_type": "execute_result"
    }
   ],
   "source": [
    "articles_summaries[1]"
   ]
  },
  {
   "cell_type": "code",
   "execution_count": 35,
   "metadata": {},
   "outputs": [
    {
     "data": {
      "text/plain": [
       "\"'We are only four weeks into the operation of the Protocol, there are bound to be teething problems but I do acknowledge the need for engagement here on all sides, between the European Union, the United Kingdom and the Irish Government, and the Northern Ireland Executive. However Mr Martin laid some blame at the door of AstraZeneca, saying there is a 'strong sense across Europe' that the Anglo-Sewdish jab manufacturer has not delivered on commitments around the vaccination. 'Following the PM's diplomatic victory, Britain yesterday recorded a daily record for first-dose jabs – 487,756 – to bring the total to almost 8.4 million. ''I don't think politicians should pronounce on the efficacy or otherwise of vaccines,' the Irish leader said. 'Published by Associated Newspapers LtdPart of the Daily Mail, The Mail on Sunday & Metro Media Group There are issues there that we have to fine-tune and work out, but essentially I think there are positives there medium term for Northern Ireland in terms of its economic development which we should not underestimate. 'Mr Martin also criticised French president Emmanuel Macron for suggesting - contrary to all available evidence - that the AZ jab did not work for those aged over 65.\""
      ]
     },
     "execution_count": 35,
     "metadata": {},
     "output_type": "execute_result"
    }
   ],
   "source": [
    "articles_summaries[2]"
   ]
  },
  {
   "cell_type": "code",
   "execution_count": 36,
   "metadata": {},
   "outputs": [
    {
     "data": {
      "text/plain": [
       "\"'She told the newspaper that colleagues had watched patients die because they had refused to go on ventilators during the second wave of the pandemic. She added: 'If you get to that point where you are being offered a ventilator, if you refuse there is a 100 per cent chance you are going to die. 'They get sicker and sicker and sicker, then you have a situation when they become semi-conscious, so you can't have an informed conversation. 'But if you say yes it's a 40 to 50 per cent chance. It's the Covid that's killing you.' 'We have to honour our patients' wishes.\""
      ]
     },
     "execution_count": 36,
     "metadata": {},
     "output_type": "execute_result"
    }
   ],
   "source": [
    "articles_summaries[3]"
   ]
  },
  {
   "cell_type": "code",
   "execution_count": 37,
   "metadata": {},
   "outputs": [
    {
     "data": {
      "text/plain": [
       "\"But with Rishi Sunak mulling increases to capital gains tax to pay for the massive £400billion blackhole in public spending accrued during the pandemic and warnings that the economy could take a decade to recover, Tory MPs are likely to be rattled by the new graphs. The announcement follows reports that SAGE has advised the government to keep social distancing measures in place until the end of the year amid fears that reopening the country too quickly will prompt a third wave of infections. Speaking to BBC One's Andrew Marr Show, Dr Hopkins said: 'What we would like to see is a divergence in the case rate in the over-70s and over-80s who have been vaccinated from the younger age groups, to show that they are declining faster. The second wave has seen bigger numbers of coronavirus patients in hospitals, with 21,684 patients during the peak of the first wave of the pandemic last April. Also today, intensive care doctors said the coronavirus crisis in hospitals has 'stabilised' and staff are no longer have to plan for extra capacity - but warned that 2021 is going to be 'another very hard year' for the nation. Data from the Department of Health show that the UK recorded 21,088 daily Covid-19 cases today, down by 29.7 per cent from 30,004 cases last Sunday.The same figures also show that daily Covid-related fatalities fell by 3.7 per cent from 610 deaths last week to 587 deaths today. By Jack Wright For Mailonline Published: 16:25 GMT, 31 January 2021 | Updated: 16:45 GMT, 31 January 2021 331View commentsCoronavirus cases and deaths fell again today on last week as the latest official figures suggest that the national lockdown is helping to suppress the virus.\""
      ]
     },
     "execution_count": 37,
     "metadata": {},
     "output_type": "execute_result"
    }
   ],
   "source": [
    "articles_summaries[4]"
   ]
  },
  {
   "cell_type": "code",
   "execution_count": null,
   "metadata": {},
   "outputs": [],
   "source": []
  },
  {
   "cell_type": "code",
   "execution_count": null,
   "metadata": {},
   "outputs": [],
   "source": []
  }
 ],
 "metadata": {
  "kernelspec": {
   "display_name": "Python 3",
   "language": "python",
   "name": "python3"
  },
  "language_info": {
   "codemirror_mode": {
    "name": "ipython",
    "version": 3
   },
   "file_extension": ".py",
   "mimetype": "text/x-python",
   "name": "python",
   "nbconvert_exporter": "python",
   "pygments_lexer": "ipython3",
   "version": "3.8.3"
  }
 },
 "nbformat": 4,
 "nbformat_minor": 4
}
